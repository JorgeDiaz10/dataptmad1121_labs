{
 "cells": [
  {
   "cell_type": "markdown",
   "id": "7f0c9af9",
   "metadata": {},
   "source": [
    "## Challenge 1"
   ]
  },
  {
   "cell_type": "code",
   "execution_count": null,
   "id": "7b51bc89",
   "metadata": {},
   "outputs": [],
   "source": [
    "SELECT a.au_id AS [AUTHOR ID], a.au_lname AS [LAST NAME], a.au_fname AS [FIRST NAME], t.title AS [TITLE], p.pub_name AS [PUBLISHER]\n",
    "FROM authors as a\n",
    "    INNER JOIN titleauthor AS ta ON a.au_id = ta.au_id\n",
    "    INNER JOIN titles AS t ON ta.title_id = t.title_id\n",
    "    INNER JOIN publishers as p ON t.pub_id = p.pub_id\n",
    "ORDER BY [AUTHOR ID]"
   ]
  },
  {
   "cell_type": "markdown",
   "id": "7ff41a99",
   "metadata": {},
   "source": [
    "## Challenge 2"
   ]
  },
  {
   "cell_type": "code",
   "execution_count": null,
   "id": "265bc47d",
   "metadata": {},
   "outputs": [],
   "source": [
    "SELECT ga.au_id AS [AUTHOR ID], ga.au_lname AS [LAST NAME], ga.au_fname AS [FIRST NAME], t.title AS [TITLE], p.pub_name AS [PUBLISHER]\n",
    "    ,COUNT(DISTINCT t.pub_id) AS [TITLE COUNT]\n",
    "FROM guest.authors as ga\n",
    "    INNER JOIN guest.titleauthor AS ta ON ga.au_id = ta.au_id\n",
    "    INNER JOIN guest.titles AS t ON ta.title_id = t.title_id\n",
    "    INNER JOIN guest.publishers as p ON t.pub_id = p.pub_id\n",
    "    GROUP BY  t.pub_id, p.pub_name, ga.au_id, ga.au_lname, ga.au_fname,t.title\n",
    "ORDER BY [TITLE COUNT]"
   ]
  },
  {
   "cell_type": "markdown",
   "id": "a0886a81",
   "metadata": {},
   "source": [
    "## Challenge 3"
   ]
  },
  {
   "cell_type": "code",
   "execution_count": null,
   "id": "f6bef13e",
   "metadata": {},
   "outputs": [],
   "source": [
    "SELECT TOP(3) ga.au_id AS [AUTHOR ID], ga.au_lname AS [LAST NAME], ga.au_fname AS [FIRST NAME], SUM(s.qty) AS [TOTAL]\n",
    "FROM guest.authors as ga\n",
    "    INNER JOIN guest.titleauthor AS ta ON ga.au_id = ta.au_id\n",
    "    INNER JOIN guest.sales as s ON ta.title_id = s.title_id\n",
    "GROUP BY ga.au_id, ga.au_lname, ga.au_fname\n",
    "ORDER BY [TOTAL] DESC"
   ]
  },
  {
   "cell_type": "markdown",
   "id": "3b2a6748",
   "metadata": {},
   "source": [
    "## Challenge 4"
   ]
  },
  {
   "cell_type": "code",
   "execution_count": null,
   "id": "6cfc1fa4",
   "metadata": {},
   "outputs": [],
   "source": [
    "SELECT ga.au_id AS [AUTHOR ID], ga.au_lname AS [LAST NAME], ga.au_fname AS [FIRST NAME], SUM(s.qty) AS [TOTAL]\n",
    "FROM guest.authors as ga\n",
    "    FULL JOIN guest.titleauthor AS ta ON ga.au_id = ta.au_id\n",
    "    FULL JOIN guest.sales as s ON ta.title_id = s.title_id\n",
    "GROUP BY ga.au_id, ga.au_lname, ga.au_fname\n",
    "ORDER BY [TOTAL] DESC"
   ]
  }
 ],
 "metadata": {
  "kernelspec": {
   "display_name": "Python [conda env:ironhack]",
   "language": "python",
   "name": "conda-env-ironhack-py"
  },
  "language_info": {
   "codemirror_mode": {
    "name": "ipython",
    "version": 3
   },
   "file_extension": ".py",
   "mimetype": "text/x-python",
   "name": "python",
   "nbconvert_exporter": "python",
   "pygments_lexer": "ipython3",
   "version": "3.7.11"
  }
 },
 "nbformat": 4,
 "nbformat_minor": 5
}
