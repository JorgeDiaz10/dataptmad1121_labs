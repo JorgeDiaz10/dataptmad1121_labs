{
 "cells": [
  {
   "cell_type": "code",
   "execution_count": null,
   "id": "2f91a178",
   "metadata": {},
   "outputs": [],
   "source": [
    "#Challenge1\n",
    "\n",
    "#Step1\n",
    "SELECT t.title_id AS [TITLE ID], ta.au_id AS [AUTHOR ID], (t.advance * ta.royaltyper / 100) AS [ADVANCE], (t.price * s.qty * t.royalty / 100 * ta.royaltyper / 100) AS [ROYALTY]\n",
    "FROM titles as t\n",
    "    INNER JOIN titleauthor AS ta ON t.title_id = ta.title_id\n",
    "    INNER JOIN sales AS s ON ta.title_id = s.title_id\n",
    "ORDER BY 1\n",
    "\n",
    "#Step2\n",
    "SELECT t.title_id AS [TITLE ID], ta.au_id AS [AUTHOR ID], SUM(t.price * s.qty * t.royalty / 100 * ta.royaltyper / 100) AS [ROYALTY]\n",
    "FROM titles as t\n",
    "    INNER JOIN titleauthor AS ta ON t.title_id = ta.title_id\n",
    "    INNER JOIN sales AS s ON ta.title_id = s.title_id\n",
    "GROUP BY ta.au_id, t.title_id\n",
    "\n",
    "#Step3\n",
    "SELECT ta.au_id AS [AUTHOR ID], SUM((t.advance * ta.royaltyper / 100)*(t.price * s.qty * t.royalty / 100 * ta.royaltyper / 100)) AS [PROFITS]\n",
    "FROM titles as t\n",
    "    INNER JOIN titleauthor AS ta ON t.title_id = ta.title_id\n",
    "    INNER JOIN sales AS s ON ta.title_id = s.title_id\n",
    "GROUP BY ta.au_id, t.title_id\n",
    "ORDER BY 2 DESC\n",
    "\n"
   ]
  },
  {
   "cell_type": "code",
   "execution_count": null,
   "id": "be829b25",
   "metadata": {},
   "outputs": [],
   "source": [
    "#Challenge2\n",
    "CREATE TABLE TEMPORARY\n",
    "([AUTHOR ID]nvarchar(100)\n",
    ", [PROFITS] FLOAT(10)\n",
    ", [ValidFrom] datetime2 GENERATED ALWAYS AS ROW START\n",
    ", [ValidTo] datetime2 GENERATED ALWAYS AS ROW END\n",
    ", PERIOD FOR SYSTEM_TIME (ValidFrom, ValidTo)\n",
    ")\n",
    "\n",
    "#Step1\n",
    "SELECT t.title_id AS [TITLE ID], ta.au_id AS [AUTHOR ID], (t.advance * ta.royaltyper / 100) AS [ADVANCE], (t.price * s.qty * t.royalty / 100 * ta.royaltyper / 100) AS [ROYALTY]\n",
    "FROM titles as t\n",
    "    INNER JOIN titleauthor AS ta ON t.title_id = ta.title_id\n",
    "    INNER JOIN sales AS s ON ta.title_id = s.title_id\n",
    "ORDER BY 1\n",
    "\n",
    "#Step2\n",
    "SELECT t.title_id AS [TITLE ID], ta.au_id AS [AUTHOR ID], SUM(t.price * s.qty * t.royalty / 100 * ta.royaltyper / 100) AS [ROYALTY]\n",
    "FROM titles as t\n",
    "    INNER JOIN titleauthor AS ta ON t.title_id = ta.title_id\n",
    "    INNER JOIN sales AS s ON ta.title_id = s.title_id\n",
    "GROUP BY ta.au_id, t.title_id\n",
    "\n",
    "#Step3\n",
    "SELECT ta.au_id AS [AUTHOR ID], SUM((t.advance * ta.royaltyper / 100)*(t.price * s.qty * t.royalty / 100 * ta.royaltyper / 100)) AS [PROFITS]\n",
    "FROM titles as t\n",
    "    INNER JOIN titleauthor AS ta ON t.title_id = ta.title_id\n",
    "    INNER JOIN sales AS s ON ta.title_id = s.title_id\n",
    "GROUP BY ta.au_id, t.title_id\n",
    "ORDER BY 2 DESC\n",
    "\n"
   ]
  },
  {
   "cell_type": "code",
   "execution_count": null,
   "id": "a439bf5b",
   "metadata": {},
   "outputs": [],
   "source": [
    "#Challenge3\n",
    "CREATE TABLE most_profiting_authors1\n",
    "(\n",
    "    [AUTHOR ID] NVARCHAR(100)\n",
    "    , [PROFITS] FLOAT(53)\n",
    ")\n",
    "SELECT ta.au_id AS [AUTHOR ID], SUM((t.advance * ta.royaltyper / 100)*(t.price * s.qty * t.royalty / 100 * ta.royaltyper / 100)) AS [PROFITS]\n",
    "FROM titles as t\n",
    "    INNER JOIN titleauthor AS ta ON t.title_id = ta.title_id\n",
    "    INNER JOIN sales AS s ON ta.title_id = s.title_id\n",
    "GROUP BY ta.au_id, t.title_id\n",
    "ORDER BY 2 DESC"
   ]
  }
 ],
 "metadata": {
  "kernelspec": {
   "display_name": "Python [conda env:ironhack]",
   "language": "python",
   "name": "conda-env-ironhack-py"
  },
  "language_info": {
   "codemirror_mode": {
    "name": "ipython",
    "version": 3
   },
   "file_extension": ".py",
   "mimetype": "text/x-python",
   "name": "python",
   "nbconvert_exporter": "python",
   "pygments_lexer": "ipython3",
   "version": "3.7.11"
  }
 },
 "nbformat": 4,
 "nbformat_minor": 5
}
